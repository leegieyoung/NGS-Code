{
 "cells": [
  {
   "cell_type": "code",
   "execution_count": 20,
   "metadata": {},
   "outputs": [],
   "source": [
    "for i in range(1,23) :\n",
    "    PBS=[]\n",
    "    sample_name='Imputed_pdxen_ASA_140'\n",
    "    Code_path='Code_path=\"/scratch/x1997a11/GWAS/pdxen_AD/Code_folder/keep_allele_order_version\"'\n",
    "    raw_Code='2-3_Snpsift.sh'\n",
    "    PBS_name=''\n",
    "    PBS_name += '#PBS -N ' + str(i)\n",
    "    Code=''\n",
    "    Code += 'sh ' +'${Code_path}/' + raw_Code + ' ' + sample_name + ' ' + str(i)\n",
    "\n",
    "    PBS.append('#!/bin/sh\\n')\n",
    "    PBS.append('#PBS -V\\n')\n",
    "    PBS.append('#PBS -q normal\\n')\n",
    "    PBS.append('#PBS -A etc\\n')\n",
    "    PBS.append('#PBS -l select=1:ncpus=68:mpiprocs=1:ompthreads=68\\n')\n",
    "    PBS.append('#PBS -l walltime=48:00:00\\n')\n",
    "    PBS.append('#PBS -o /scratch/x1997a11/PBS.OU\\n')\n",
    "    PBS.append('#PBS -e /scratch/x1997a11/Error\\n')\n",
    "    PBS.append(PBS_name)\n",
    "    PBS.append('\\n')\n",
    "    PBS.append('module purge\\n')\n",
    "    PBS.append('module load python/3.7\\n')\n",
    "    PBS.append('. /apps/applications/PYTHON/3.7/etc/profile.d/conda.sh\\n')\n",
    "    PBS.append('conda activate plink\\n')\n",
    "    PBS.append(Code_path)\n",
    "    PBS.append('\\n')\n",
    "    PBS.append('\\n')\n",
    "    PBS.append(Code)\n",
    "    \n",
    "    result_name=''\n",
    "    result_name += 'PBS_' + sample_name + '_' + 'snpsift_'+ str(i) + '.sh'\n",
    "    output=open(result_name,'w')\n",
    "    output.writelines(PBS)\n",
    "    output.close()\n",
    "    \n",
    "\n",
    "    "
   ]
  },
  {
   "cell_type": "code",
   "execution_count": null,
   "metadata": {},
   "outputs": [],
   "source": []
  }
 ],
 "metadata": {
  "kernelspec": {
   "display_name": "Dask - Python (on Kubernetes)",
   "language": "python",
   "name": "dask_python_kubernetes"
  },
  "language_info": {
   "codemirror_mode": {
    "name": "ipython",
    "version": 3
   },
   "file_extension": ".py",
   "mimetype": "text/x-python",
   "name": "python",
   "nbconvert_exporter": "python",
   "pygments_lexer": "ipython3",
   "version": "3.7.3"
  }
 },
 "nbformat": 4,
 "nbformat_minor": 2
}
